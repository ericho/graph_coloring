{
 "cells": [
  {
   "cell_type": "markdown",
   "metadata": {},
   "source": [
    "# Coloreado de grafos\n",
    "\n",
    "## Alumnos\n",
    "\n",
    "## Objetivo general\n",
    "\n",
    "Programar un algoritmo de coloreado de vértices para grafos.\n",
    "\n",
    "**Entrada**:\n",
    "  - Grafo $G(Vértices, Aristas)$.\n",
    "  - Número de colores.\n",
    "  - Nombres de colores asignando el orden.\n",
    "\n",
    "**Salida**:\n",
    "  - Coloreado posible / Coloreado no posible\n",
    "  - En caso de ser posible indicar la asignación de vértices con los colores asignados.\n",
    "  - En caso de no ser posible, indicar el conflicto.\n",
    "  - Presentar salida gráfica opcional.\n",
    "\n",
    "## Algoritmo\n",
    "\n",
    "1. Ordenar los vértices de $G$ por grado.\n",
    "2. Para los nodos de grado igual, obtener su grado de error.\n",
    "    - grado de error = $Grado + <Número de nodos adyacentes con grado igual o superior>$\n",
    "    - Se ordenan por grado de error.\n",
    "3. Se considera el orden de los colores a utilizar. El orden y el número de colores se determina al inicio del programa. En el siguiente ejemplo se muestran 4 colores con la prioridad siguiente.\n",
    "    1. C1 = Blue (B)\n",
    "    2. C2 = Red (R)\n",
    "    3. C3 = Green (G)\n",
    "    4. C4 = Yellow (Y)\n",
    "4. Se colorean los nodos considerando el orden de prioridades de color y el acomodo dependiendo del grado de error del algoritmo.\n",
    "5. Termina el algoritmo cuando todos los vértices son coloreados o cuando falta colorear algún vértice debido a la falta de colores."
   ]
  },
  {
   "cell_type": "markdown",
   "metadata": {},
   "source": [
    "## Dependencies"
   ]
  },
  {
   "cell_type": "code",
   "execution_count": 1,
   "metadata": {},
   "outputs": [
    {
     "name": "stdout",
     "output_type": "stream",
     "text": [
      "Collecting package metadata (current_repodata.json): ...working... done\n",
      "Solving environment: ...working... done\n",
      "\n",
      "## Package Plan ##\n",
      "\n",
      "  environment location: C:\\Users\\Erich\\anaconda3\n",
      "\n",
      "  added / updated specs:\n",
      "    - networkx\n",
      "\n",
      "\n",
      "The following packages will be downloaded:\n",
      "\n",
      "    package                    |            build\n",
      "    ---------------------------|-----------------\n",
      "    ca-certificates-2021.9.30  |       haa95532_1         116 KB\n",
      "    certifi-2021.10.8          |   py38haa95532_0         152 KB\n",
      "    networkx-2.6.3             |     pyhd3eb1b0_0         1.3 MB\n",
      "    ------------------------------------------------------------\n",
      "                                           Total:         1.5 MB\n",
      "\n",
      "The following packages will be UPDATED:\n",
      "\n",
      "  ca-certificates                       2021.7.5-haa95532_1 --> 2021.9.30-haa95532_1\n",
      "  certifi                          2021.5.30-py38haa95532_0 --> 2021.10.8-py38haa95532_0\n",
      "  networkx                               2.6.2-pyhd3eb1b0_0 --> 2.6.3-pyhd3eb1b0_0\n",
      "\n",
      "\n",
      "\n",
      "Downloading and Extracting Packages\n",
      "\n",
      "ca-certificates-2021 | 116 KB    |            |   0% \n",
      "ca-certificates-2021 | 116 KB    | #3         |  14% \n",
      "ca-certificates-2021 | 116 KB    | ########## | 100% \n",
      "ca-certificates-2021 | 116 KB    | ########## | 100% \n",
      "\n",
      "certifi-2021.10.8    | 152 KB    |            |   0% \n",
      "certifi-2021.10.8    | 152 KB    | ########## | 100% \n",
      "certifi-2021.10.8    | 152 KB    | ########## | 100% \n",
      "\n",
      "networkx-2.6.3       | 1.3 MB    |            |   0% \n",
      "networkx-2.6.3       | 1.3 MB    | ########## | 100% \n",
      "networkx-2.6.3       | 1.3 MB    | ########## | 100% \n",
      "Preparing transaction: ...working... done\n",
      "Verifying transaction: ...working... done\n",
      "Executing transaction: ...working... done\n"
     ]
    }
   ],
   "source": [
    "# Instala dependencies para este proyecto.\n",
    "import sys\n",
    "!conda install --yes --prefix {sys.prefix} networkx"
   ]
  },
  {
   "cell_type": "code",
   "execution_count": 2,
   "metadata": {},
   "outputs": [
    {
     "data": {
      "text/plain": [
       "{(0, 3): Text(0.07812365666820895, -0.041494417093760894, '3'),\n",
       " (0, 6): Text(-0.08741303139502657, 0.2669091826784943, '3'),\n",
       " (1, 2): Text(0.301891016567083, -0.7969045810609058, '1'),\n",
       " (1, 3): Text(0.19153516717197988, -0.40101080349114127, '2'),\n",
       " (3, 9): Text(0.35635559725860877, -0.21938383225560976, '1'),\n",
       " (3, 5): Text(-0.07522961387802844, -0.17137698262373327, '1'),\n",
       " (4, 5): Text(-0.34143097608732315, 0.008426622941156536, '2'),\n",
       " (4, 6): Text(-0.290770732699903, 0.27999476047667393, '2'),\n",
       " (6, 7): Text(-0.27860529876795276, 0.5135066636456573, '3'),\n",
       " (6, 8): Text(-0.14090336612923327, 0.6360406987352469, '1')}"
      ]
     },
     "execution_count": 2,
     "metadata": {},
     "output_type": "execute_result"
    },
    {
     "data": {
      "image/png": "[encoded data removed]",
      "text/plain": [
       "<Figure size 360x360 with 1 Axes>"
      ]
     },
     "metadata": {},
     "output_type": "display_data"
    }
   ],
   "source": [
    "# Prueba de un grafo simple.\n",
    "import networkx as nx\n",
    "import matplotlib.pyplot as plt\n",
    "\n",
    "G = nx.Graph()\n",
    "G.add_nodes_from(list(range(10)))\n",
    "G.add_weighted_edges_from([(1,2,1), (1,3,2), (3,0,3), (3,9,1), (4,5,2), (6,7,3), (3,5,1), (4,6,2), (6,0,3), (6,8,1)])\n",
    "\n",
    "fig = plt.figure(figsize=(5,5))\n",
    "pos = nx.spring_layout(G, seed=2)\n",
    "elabels = nx.get_edge_attributes(G,'weight')\n",
    "nx.draw(G, with_labels=True, pos=pos)\n",
    "nx.draw_networkx_edge_labels(G, pos,  edge_labels=elabels)"
   ]
  },
  {
   "cell_type": "code",
   "execution_count": 17,
   "metadata": {},
   "outputs": [
    {
     "name": "stdout",
     "output_type": "stream",
     "text": [
      "2\n",
      "2\n",
      "1\n",
      "4\n",
      "2\n",
      "2\n",
      "4\n",
      "1\n",
      "1\n",
      "1\n",
      "['__call__', '__class__', '__delattr__', '__dict__', '__dir__', '__doc__', '__eq__', '__format__', '__ge__', '__getattribute__', '__getitem__', '__gt__', '__hash__', '__init__', '__init_subclass__', '__iter__', '__le__', '__len__', '__lt__', '__module__', '__ne__', '__new__', '__reduce__', '__reduce_ex__', '__repr__', '__setattr__', '__sizeof__', '__str__', '__subclasshook__', '__weakref__', '_graph', '_nodes', '_pred', '_succ', '_weight']\n",
      "0 (0, 2)\n",
      "1 (1, 2)\n",
      "2 (2, 1)\n",
      "3 (3, 4)\n",
      "4 (4, 2)\n",
      "5 (5, 2)\n",
      "6 (6, 4)\n",
      "7 (7, 1)\n",
      "8 (8, 1)\n",
      "9 (9, 1)\n"
     ]
    }
   ],
   "source": [
    "# Experimentos...\n",
    "for node in G.nodes:\n",
    "    print(G.degree[node])\n",
    "\n",
    "d = G.degree()\n",
    "print(dir(d))\n",
    "\n",
    "for v, i in enumerate(d):\n",
    "    print(v, i)\n"
   ]
  },
  {
   "cell_type": "code",
   "execution_count": null,
   "metadata": {},
   "outputs": [],
   "source": []
  }
 ],
 "metadata": {
  "interpreter": {
   "hash": "14fe5199e8054a15ef5bd87df6de0c5d9d8a3ed5427baccd18af57a5f5c39214"
  },
  "kernelspec": {
   "display_name": "Python 3.8.8 64-bit ('base': conda)",
   "name": "python3"
  },
  "language_info": {
   "codemirror_mode": {
    "name": "ipython",
    "version": 3
   },
   "file_extension": ".py",
   "mimetype": "text/x-python",
   "name": "python",
   "nbconvert_exporter": "python",
   "pygments_lexer": "ipython3",
   "version": "3.8.8"
  },
  "orig_nbformat": 4
 },
 "nbformat": 4,
 "nbformat_minor": 2
}
